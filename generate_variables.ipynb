{
 "cells": [
  {
   "cell_type": "markdown",
   "metadata": {},
   "source": [
    "# Generate variables"
   ]
  },
  {
   "cell_type": "code",
   "execution_count": 15,
   "metadata": {},
   "outputs": [],
   "source": [
    "names = [\n",
    "    \"Alice\",\n",
    "    \"Bob\",\n",
    "    \"Charlie\",\n",
    "    \"David\",\n",
    "    \"Eve\",\n",
    "    \"Frank\",\n",
    "    \"Grace\",\n",
    "    \"Heidi\",\n",
    "    \"Ivan\",\n",
    "    \"Judy\",\n",
    "    \"Kevin\",\n",
    "    \"Linda\",\n",
    "    \"Mallory\",\n",
    "    \"Nancy\",\n",
    "    \"Oscar\",\n",
    "    \"Peggy\",\n",
    "    \"Quentin\",\n",
    "    \"Romeo\",\n",
    "    \"Sybil\",\n",
    "    \"Trent\",\n",
    "    \"Ursula\",\n",
    "    \"Victor\",\n",
    "    \"Walter\",\n",
    "    \"Xavier\",\n",
    "    \"Yvonne\",\n",
    "    \"Zelda\",\n",
    "]\n",
    "ages = [\n",
    "    20,\n",
    "    21,\n",
    "    22,\n",
    "    23,\n",
    "    24,\n",
    "    25,\n",
    "    26,\n",
    "    27,\n",
    "    28,\n",
    "    29,\n",
    "    30,\n",
    "    31,\n",
    "    32,\n",
    "    33,\n",
    "    34,\n",
    "    35,\n",
    "    36,\n",
    "    37,\n",
    "    38,\n",
    "    39,\n",
    "    40,\n",
    "    41,\n",
    "    42,\n",
    "    43,\n",
    "    44,\n",
    "    45,\n",
    "]\n",
    "name_2_age = dict(zip(names, ages))\n",
    "age_2_name = dict(zip(ages, names))\n",
    "n_people = len(names)\n",
    "\n",
    "big_list = [1, 2, 3, 4, 5, 6, 7, 8, 9, 10] * 100000000"
   ]
  },
  {
   "cell_type": "code",
   "execution_count": 19,
   "metadata": {},
   "outputs": [
    {
     "name": "stdout",
     "output_type": "stream",
     "text": [
      "Stored 'age_2_name' (dict)\n",
      "Stored 'ages' (list)\n",
      "Stored 'big_list' (list)\n",
      "Stored 'n_people' (int)\n",
      "Stored 'name_2_age' (dict)\n",
      "Stored 'names' (list)\n",
      "Stored 'variable_size' (float)\n",
      "Stored 7 variables!\n",
      "Generated file variables.txt!\n",
      "run '%load variables.txt' in the next notebook to avoid Pylance warnings!\n"
     ]
    }
   ],
   "source": [
    "%run store_variables.py "
   ]
  }
 ],
 "metadata": {
  "kernelspec": {
   "display_name": "Python 3",
   "language": "python",
   "name": "python3"
  },
  "language_info": {
   "codemirror_mode": {
    "name": "ipython",
    "version": 3
   },
   "file_extension": ".py",
   "mimetype": "text/x-python",
   "name": "python",
   "nbconvert_exporter": "python",
   "pygments_lexer": "ipython3",
   "version": "3.11.5"
  }
 },
 "nbformat": 4,
 "nbformat_minor": 2
}
