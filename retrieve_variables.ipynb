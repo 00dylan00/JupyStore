{
 "cells": [
  {
   "cell_type": "markdown",
   "metadata": {},
   "source": [
    "# Retrieve Variables"
   ]
  },
  {
   "cell_type": "code",
   "execution_count": 6,
   "metadata": {},
   "outputs": [],
   "source": [
    "# To retrieve variables we will run the following command\n",
    "# %load variables.txt\n",
    "\n",
    "# once to load & another to run"
   ]
  },
  {
   "cell_type": "code",
   "execution_count": 14,
   "metadata": {},
   "outputs": [
    {
     "name": "stdout",
     "output_type": "stream",
     "text": [
      "age_2_name: 0.00 MB\n",
      "ages: 0.00 MB\n",
      "big_list: 8278.92 MB\n",
      "n_people: 0.00 MB\n",
      "name_2_age: 0.00 MB\n",
      "names: 0.00 MB\n",
      "variable_size: 0.00 MB\n"
     ]
    }
   ],
   "source": [
    "# %load variables.txt\n",
    "%store -r\n",
    "import sys\n",
    "age_2_name = globals()['age_2_name']\n",
    "ages = globals()['ages']\n",
    "big_list = globals()['big_list']\n",
    "n_people = globals()['n_people']\n",
    "name_2_age = globals()['name_2_age']\n",
    "names = globals()['names']\n",
    "variable_size = globals()['variable_size']\n",
    "for var in ['age_2_name', 'ages', 'big_list', 'n_people', 'name_2_age', 'names', 'variable_size']:\n",
    "\tprint(f'{var}: {sys.getsizeof(globals()[var]) / (1024 * 1024):.2f} MB')\n"
   ]
  }
 ],
 "metadata": {
  "kernelspec": {
   "display_name": "base",
   "language": "python",
   "name": "python3"
  },
  "language_info": {
   "codemirror_mode": {
    "name": "ipython",
    "version": 3
   },
   "file_extension": ".py",
   "mimetype": "text/x-python",
   "name": "python",
   "nbconvert_exporter": "python",
   "pygments_lexer": "ipython3",
   "version": "3.11.5"
  }
 },
 "nbformat": 4,
 "nbformat_minor": 2
}
